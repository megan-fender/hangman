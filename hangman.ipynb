{
 "cells": [
  {
   "cell_type": "code",
   "execution_count": null,
   "metadata": {},
   "outputs": [],
   "source": [
    "import random\n",
    "\n",
    "def hangman(x = word):\n",
    "    word_list = ['cat','ham','tv','phone']\n",
    "    word = random.choice(word_list)\n",
    "    wrong = 0\n",
    "    stages = ['',\n",
    "             '\\n____________        '\n",
    "             '\\n|                   '\n",
    "             '\\n|          |        '\n",
    "             '\\n|          0        '\n",
    "             '\\n|         /|\\       '\n",
    "             '\\n|         / \\       '\n",
    "             '\\n|                   ' \n",
    "             ]\n",
    "    rletters = list(word)\n",
    "    board = ['__'] * len(word)\n",
    "    win = False\n",
    "    print('Welcome to Hangman')\n",
    "    while wrong < len(stages) - 1:\n",
    "        print('\\n')\n",
    "        msg = 'guess a letter '\n",
    "        char = input(msg)\n",
    "        if char in rletters:\n",
    "            cind = rletters.index(char)\n",
    "            board[cind] = char\n",
    "            rletters[cind] = '$'\n",
    "        else:\n",
    "            wrong += 1\n",
    "        print((' '.join(board)))\n",
    "        e = wrong + 1\n",
    "        print('\\n'.join(stages[0:e]))\n",
    "        if '__' not in board:\n",
    "            print('you win!')\n",
    "            print(' '.join(board))\n",
    "            win = True\n",
    "            break\n",
    "    if not win :\n",
    "        print('\\n'.join(stages[0: wrong]))\n",
    "        print('you lose! it was {}'.format(word))\n",
    "\n",
    "hangman()"
   ]
  }
 ],
 "metadata": {
  "kernelspec": {
   "display_name": "Python 3",
   "language": "python",
   "name": "python3"
  },
  "language_info": {
   "codemirror_mode": {
    "name": "ipython",
    "version": 3
   },
   "file_extension": ".py",
   "mimetype": "text/x-python",
   "name": "python",
   "nbconvert_exporter": "python",
   "pygments_lexer": "ipython3",
   "version": "3.7.4"
  }
 },
 "nbformat": 4,
 "nbformat_minor": 2
}
